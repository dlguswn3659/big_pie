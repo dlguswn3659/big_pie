{
  "nbformat": 4,
  "nbformat_minor": 0,
  "metadata": {
    "colab": {
      "name": "assignment7.ipynb",
      "provenance": [],
      "collapsed_sections": [],
      "authorship_tag": "ABX9TyMj4ULmIQHhLb2Lm4eors9j",
      "include_colab_link": true
    },
    "kernelspec": {
      "name": "python3",
      "display_name": "Python 3"
    }
  },
  "cells": [
    {
      "cell_type": "markdown",
      "metadata": {
        "id": "view-in-github",
        "colab_type": "text"
      },
      "source": [
        "<a href=\"https://colab.research.google.com/github/dlguswn3659/big_pie/blob/master/assignment7.ipynb\" target=\"_parent\"><img src=\"https://colab.research.google.com/assets/colab-badge.svg\" alt=\"Open In Colab\"/></a>"
      ]
    },
    {
      "cell_type": "markdown",
      "metadata": {
        "id": "pMcbWdbh98uY",
        "colab_type": "text"
      },
      "source": [
        "# **Machine Learning Assignment07** #\n",
        "\n",
        "Name : 이현주\n",
        "\n",
        "Student # : 20184060"
      ]
    },
    {
      "cell_type": "markdown",
      "metadata": {
        "id": "SmK4D4Gm-Owm",
        "colab_type": "text"
      },
      "source": [
        "# **1. Plot the training data [1pt]**\n",
        "\n",
        "- plot the training data points (x,y) with their labels / in colors (blue for label 0 and red for label 1)"
      ]
    },
    {
      "cell_type": "code",
      "metadata": {
        "id": "b6EhbyxXNp1e",
        "colab_type": "code",
        "colab": {
          "base_uri": "https://localhost:8080/",
          "height": 296
        },
        "outputId": "1726f6a5-f824-4a89-d7d8-fb92ae2f9961"
      },
      "source": [
        "%matplotlib inline\n",
        "import numpy as np\n",
        "import matplotlib.pyplot as plt\n",
        "import matplotlib as mpl\n",
        "import seaborn as sns\n",
        "import matplotlib.animation as animation\n",
        "from scipy import stats \n",
        "from mpl_toolkits.mplot3d import Axes3D\n",
        "from sklearn.datasets.samples_generator import make_regression \n",
        "import csv\n",
        "import math\n",
        "# from google.colab import files\n",
        "\n",
        "# uploaded = files.upload()\n",
        "\n",
        "data    = np.genfromtxt(\"data-nonlinear.txt\", delimiter=',')\n",
        "\n",
        "pointX  = data[:, 0]\n",
        "pointY  = data[:, 1]\n",
        "label   = data[:, 2]\n",
        "\n",
        "pointX0 = pointX[label == 0]\n",
        "pointY0 = pointY[label == 0]\n",
        "\n",
        "pointX1 = pointX[label == 1]\n",
        "pointY1 = pointY[label == 1]\n",
        "\n",
        "plt.figure()\n",
        "plt.scatter(pointX0, pointY0, c='b')\n",
        "plt.scatter(pointX1, pointY1, c='r')\n",
        "plt.tight_layout()\n",
        "plt.gca().set_aspect('equal', adjustable='box')\n",
        "plt.show()"
      ],
      "execution_count": 114,
      "outputs": [
        {
          "output_type": "display_data",
          "data": {
            "image/png": "[encoded data removed]",
            "text/plain": [
              "<Figure size 432x288 with 1 Axes>"
            ]
          },
          "metadata": {
            "tags": [],
            "needs_background": "light"
          }
        }
      ]
    },
    {
      "cell_type": "markdown",
      "metadata": {
        "id": "ZqqLOKHkCI_o",
        "colab_type": "text"
      },
      "source": [
        "# **2. Plot the training error with varying regularization parameters[9pt]**\n",
        "\n",
        "- choose a value for λ1 in such a way that over-fitting is demonstrated and plot the training error J(θ) at every iteration of gradient descent until convergence (in red color) [3pt]\n",
        "- choose a value for λ2 in such a way that just-right is demonstrated and plot the training error J(θ) at every iteration of gradient descent until convergence (in green color) [3pt]\n",
        "- choose a value for λ3​ in such a way that under-fitting is demonstrated and plot the training error J(θ) at every iteration of gradient descent until convergence (in blue color) [3pt]\n",
        "- the above three curves should be presented all together in a single figure"
      ]
    },
    {
      "cell_type": "code",
      "metadata": {
        "id": "NukW1MTrRyyF",
        "colab_type": "code",
        "colab": {}
      },
      "source": [
        "X = pointX #전체 x\n",
        "y = np.array(pointY,dtype=float)\n",
        "label = np.array(label,dtype=float)\n",
        "# print(len(y))"
      ],
      "execution_count": 0,
      "outputs": []
    },
    {
      "cell_type": "code",
      "metadata": {
        "id": "Py4hDf40R0ZC",
        "colab_type": "code",
        "colab": {}
      },
      "source": [
        "def g_function(X, y, theta, it, i):\n",
        "  result = 0\n",
        "  for m in range(0, 10): \n",
        "    for n in range(0, 10):\n",
        "      result = result + theta[m*10 + n][it]*(X[i]**m)*(y[i]**n)\n",
        "\n",
        "  return result\n",
        "  # return  (theta[0][it] + theta[1][it]*X[i] + theta[2][it]*y[i] + theta[3][it]*X[i]*X[i] +\n",
        "  #         theta[4][it]*X[i]*y[i] + theta[5][it]*y[i]*y[i] + theta[6][it]*X[i]*X[i]*X[i] + theta[7][it]*X[i]*X[i]*y[i] +\n",
        "  #         theta[8][it]*X[i]*y[i]*y[i] + theta[9][it]*y[i]*y[i]*y[i] + theta[10][it]*X[i]*X[i]*X[i]*X[i] + theta[11][it]*X[i]*X[i]*X[i]*y[i] +\n",
        "  #         theta[12][it]*X[i]*X[i]*y[i]*y[i] + theta[13][it]*X[i]*y[i]*y[i]*y[i] + theta[14][it]*y[i]*y[i]*y[i]*y[i] \n",
        "  #         #  + theta[15][it]*X[i]*X[i]*X[i]*X[i]*X[i]\n",
        "  #          )"
      ],
      "execution_count": 0,
      "outputs": []
    },
    {
      "cell_type": "code",
      "metadata": {
        "id": "jWLGVuO3R3jm",
        "colab_type": "code",
        "colab": {}
      },
      "source": [
        "def gradient_descent(X,y,label,theta,learning_rate,iterations, controller):\n",
        "    \n",
        "    m = len(y)\n",
        "\n",
        "    cost_history = np.zeros(iterations)\n",
        "    theta_history = np.zeros((iterations,100))\n",
        "    preds = np.zeros(100)\n",
        "    differential_g_function = np.zeros(100)\n",
        "    \n",
        "    \n",
        "\n",
        "    for it in range(iterations):\n",
        "        print(it)\n",
        "        pred = 0\n",
        "        sum_theta = 0\n",
        "\n",
        "        for i in range(0, m):\n",
        "          for p in range(0, 10): \n",
        "            for n in range(0, 10):\n",
        "              differential_g_function[p*10 + n] = (X[i]**p)*(y[i]**n)\n",
        "          # print(i)\n",
        "          #cost 함수\n",
        "          pred = pred + ((-1)*label[i]*math.log(1/(1 + math.exp((-1)*g_function(X, y, theta, it, i))))-((1-label[i])*math.log(1 + (-1)*(1/(1 + math.exp((-1)*g_function(X, y, theta, it, i)))))))\n",
        "          \n",
        "          #  σ(z)   =    (1/(1 + math.exp((-1)*(theta[0][it] + theta[1][it]*X[i] + theta[2][it]*y[i]))))\n",
        "\n",
        "          #theta함수\n",
        "          for j in range(0, 100):\n",
        "            preds[j] = preds[j] + ((1/(1 + math.exp((-1)*g_function(X, y, theta, it, i)))) - label[i])*differential_g_function[j]\n",
        "            # (y[i]**(j%10))\n",
        "        \n",
        "        for i in range(0, 100):\n",
        "          theta[i][it + 1] = theta[i][it] - learning_rate*((1/m)*preds[i] + controller*theta[i][it])\n",
        "          # print(theta[i][it])\n",
        "\n",
        "        for i in range(0, 100):\n",
        "          theta_history[it][i] = theta[i][it]\n",
        "\n",
        "        for p in range(0, 10): \n",
        "          for n in range(0, 10):\n",
        "            sum_theta = sum_theta + (theta[p*10 + n][it]**2)\n",
        "            # print(theta[p*10 + n][it]**2)\n",
        "\n",
        "        # print(controller)\n",
        "        # print(sum_theta)\n",
        "        # print(pred)\n",
        "        cost_history[it]  = (1/m) * pred + (controller/2)*sum_theta\n",
        "        # print(cost_history[it])\n",
        "        \n",
        "    return theta, cost_history, theta_history"
      ],
      "execution_count": 0,
      "outputs": []
    },
    {
      "cell_type": "code",
      "metadata": {
        "id": "OrrdDO_pR5su",
        "colab_type": "code",
        "colab": {
          "base_uri": "https://localhost:8080/",
          "height": 1000
        },
        "outputId": "dfdaa32c-dfad-4573-91f0-82f06b476e4a"
      },
      "source": [
        "lr =0.5\n",
        "n_iter = 100\n",
        "\n",
        "theta = np.zeros((100, n_iter + 1))  \n",
        "\n",
        "X_b = np.c_[np.ones((len(X),0)),X]\n",
        "X_b = np.array(X_b,dtype=float)\n",
        "# print(X_b.shape)\n",
        "# print(X_b.dtype)\n",
        "# print(y.dtype)\n",
        "control_lambda = 0.5\n",
        "theta,cost_history,theta_history = gradient_descent(X_b,y,label,theta,lr,n_iter, control_lambda)"
      ],
      "execution_count": 118,
      "outputs": [
        {
          "output_type": "stream",
          "text": [
            "0\n",
            "1\n",
            "2\n",
            "3\n",
            "4\n",
            "5\n",
            "6\n",
            "7\n",
            "8\n",
            "9\n",
            "10\n",
            "11\n",
            "12\n",
            "13\n",
            "14\n",
            "15\n",
            "16\n",
            "17\n",
            "18\n",
            "19\n",
            "20\n",
            "21\n",
            "22\n",
            "23\n",
            "24\n",
            "25\n",
            "26\n",
            "27\n",
            "28\n",
            "29\n",
            "30\n",
            "31\n",
            "32\n",
            "33\n",
            "34\n",
            "35\n",
            "36\n",
            "37\n",
            "38\n",
            "39\n",
            "40\n",
            "41\n",
            "42\n",
            "43\n",
            "44\n",
            "45\n",
            "46\n",
            "47\n",
            "48\n",
            "49\n",
            "50\n",
            "51\n",
            "52\n",
            "53\n",
            "54\n",
            "55\n",
            "56\n",
            "57\n",
            "58\n",
            "59\n",
            "60\n",
            "61\n",
            "62\n",
            "63\n",
            "64\n",
            "65\n",
            "66\n",
            "67\n",
            "68\n",
            "69\n",
            "70\n",
            "71\n",
            "72\n",
            "73\n",
            "74\n",
            "75\n",
            "76\n",
            "77\n",
            "78\n",
            "79\n",
            "80\n",
            "81\n",
            "82\n",
            "83\n",
            "84\n",
            "85\n",
            "86\n",
            "87\n",
            "88\n",
            "89\n",
            "90\n",
            "91\n",
            "92\n",
            "93\n",
            "94\n",
            "95\n",
            "96\n",
            "97\n",
            "98\n",
            "99\n"
          ],
          "name": "stdout"
        }
      ]
    },
    {
      "cell_type": "code",
      "metadata": {
        "id": "WfyioTj5R65B",
        "colab_type": "code",
        "colab": {}
      },
      "source": [
        "# fig,ax = plt.subplots(figsize=(12,8))\n",
        "\n",
        "theta0_history = []\n",
        "theta1_history = []\n",
        "theta2_history = []\n",
        "theta3_history = []\n",
        "theta4_history = []\n",
        "theta5_history = []\n",
        "theta6_history = []\n",
        "theta7_history = []\n",
        "theta8_history = []\n",
        "theta9_history = []\n",
        "theta10_history = []\n",
        "theta11_history = []\n",
        "theta12_history = []\n",
        "theta13_history = []\n",
        "theta14_history = []\n",
        "# theta15_history = []\n",
        "\n",
        "for it in range(n_iter):\n",
        "  theta0_history.append(theta_history[it][0])\n",
        "  theta1_history.append(theta_history[it][1])\n",
        "  theta2_history.append(theta_history[it][2])\n",
        "  theta3_history.append(theta_history[it][3])\n",
        "  theta4_history.append(theta_history[it][4])\n",
        "  theta5_history.append(theta_history[it][5])\n",
        "  theta6_history.append(theta_history[it][6])\n",
        "  theta7_history.append(theta_history[it][7])\n",
        "  theta8_history.append(theta_history[it][8])\n",
        "  theta9_history.append(theta_history[it][9])\n",
        "  theta10_history.append(theta_history[it][10])\n",
        "  theta11_history.append(theta_history[it][11])\n",
        "  theta12_history.append(theta_history[it][12])\n",
        "  theta13_history.append(theta_history[it][13])\n",
        "  theta14_history.append(theta_history[it][14])\n",
        "  # theta15_history.append(theta_history[it][15])\n",
        "\n",
        "# ax.set_ylabel('Theta')\n",
        "# ax.set_xlabel('Iterations')\n",
        "# _=ax.plot(range(n_iter),theta0_history,'b.', color = 'red')\n",
        "# _=ax.plot(range(n_iter),theta1_history,'b.', color = 'green')\n",
        "# _=ax.plot(range(n_iter),theta2_history,'b.', color = 'blue')\n",
        "\n",
        "# for it in range(0, 15):\n",
        "#   print(theta_history[-1][it])"
      ],
      "execution_count": 0,
      "outputs": []
    },
    {
      "cell_type": "code",
      "metadata": {
        "id": "we9XQdQYR9ZF",
        "colab_type": "code",
        "colab": {
          "base_uri": "https://localhost:8080/",
          "height": 513
        },
        "outputId": "63bac091-9852-4192-ff1d-347b744df65f"
      },
      "source": [
        "fig,ax = plt.subplots(figsize=(12,8))\n",
        "\n",
        "print(cost_history[1])\n",
        "\n",
        "ax.set_ylabel('J(Theta)')\n",
        "ax.set_xlabel('Iterations')\n",
        "_=ax.plot(range(n_iter),cost_history,'b.')"
      ],
      "execution_count": 120,
      "outputs": [
        {
          "output_type": "stream",
          "text": [
            "0.6854830002145831\n"
          ],
          "name": "stdout"
        },
        {
          "output_type": "display_data",
          "data": {
            "image/png": "[encoded data removed]",
            "text/plain": [
              "<Figure size 864x576 with 1 Axes>"
            ]
          },
          "metadata": {
            "tags": [],
            "needs_background": "light"
          }
        }
      ]
    },
    {
      "cell_type": "code",
      "metadata": {
        "id": "mhOvyBZLcFk9",
        "colab_type": "code",
        "colab": {
          "base_uri": "https://localhost:8080/",
          "height": 33
        },
        "outputId": "ba8aa244-3308-48df-b4d2-7b665a37dbcc"
      },
      "source": [
        "%pylab inline \n",
        "import numpy as np \n",
        "import pandas as pd \n",
        "import matplotlib.pyplot as plt"
      ],
      "execution_count": 121,
      "outputs": [
        {
          "output_type": "stream",
          "text": [
            "Populating the interactive namespace from numpy and matplotlib\n"
          ],
          "name": "stdout"
        }
      ]
    },
    {
      "cell_type": "code",
      "metadata": {
        "id": "d979NoCtcLYL",
        "colab_type": "code",
        "colab": {}
      },
      "source": [
        "def sigmoid(z): \n",
        "  g = 1 / (1 + np.exp(-z)) \n",
        "  \n",
        "  return g \n",
        "  \n",
        "# print('sigmoid(10) = %s, sigmoid(-10) = %s, sigmoid(0) = %s' % (sigmoid(10), sigmoid(-10), sigmoid(0)))"
      ],
      "execution_count": 0,
      "outputs": []
    },
    {
      "cell_type": "code",
      "metadata": {
        "id": "xUYV0C5NcL56",
        "colab_type": "code",
        "colab": {}
      },
      "source": [
        "def mapFeature(X1, X2): \n",
        "  degree =  9\n",
        "  #print(X1.shape) \n",
        "  m = np.size(X1) \n",
        "  out = np.ones(m) \n",
        "  res = [] \n",
        "  \n",
        "  res.append(out) \n",
        "  \n",
        "  for i in np.arange(1, degree + 1): \n",
        "    for j in np.arange(0, i + 1): \n",
        "      out1 = (X1 ** (i - j)) * (X2 ** j) \n",
        "      res.append(out1) \n",
        "      \n",
        "  return np.array(res).T \n",
        "\n",
        "data = matrix(data)\n",
        "\n",
        "X = data[:, 0:2] \n",
        "y = data[:, 2] \n",
        "\n",
        "X = np.array(X)\n",
        "y = np.array(y)\n",
        "      \n",
        "X_reg = mapFeature(X[:, 0], X[:, 1]) \n",
        "# print(X_reg[0:2, :])"
      ],
      "execution_count": 0,
      "outputs": []
    },
    {
      "cell_type": "code",
      "metadata": {
        "id": "vy1SkrH9cNsS",
        "colab_type": "code",
        "colab": {
          "base_uri": "https://localhost:8080/",
          "height": 230
        },
        "outputId": "d1645b40-f81e-4d25-f00a-8d2b57196192"
      },
      "source": [
        "import scipy.optimize as op \n",
        "\n",
        "def myCostReg(theta, X, y, s_lambda): \n",
        "  \n",
        "  X = matrix(X) \n",
        "\n",
        "  J = 0 \n",
        "  grad = np.zeros(np.size(theta)) \n",
        "  m, n = X.shape \n",
        "  y = y.reshape((m, 1)) \n",
        "  theta = theta.reshape((n, 1)) \n",
        "\n",
        "  theta_0 = theta[0] \n",
        "  theta_j = theta[1:] \n",
        "\n",
        "  theta = np.matrix(theta) \n",
        "  sum_theta_square = np.sum(theta_j ** 2) \n",
        "  predictions = X * theta \n",
        "  sig_term = sigmoid(predictions)\n",
        "\n",
        "  J = 1/m * sum(np.multiply(-y, log(sig_term)) - np.multiply((1 - y), log(1 - sig_term))) + s_lambda / (2 * m) * sum_theta_square \n",
        "  \n",
        "  return J \n",
        "  \n",
        "def myGradientReg(theta, X, y, s_lambda): \n",
        " \n",
        "  X = matrix(X) \n",
        "\n",
        "  J = 0 \n",
        "  grad = np.zeros(np.size(theta)) \n",
        "  m, n = X.shape \n",
        "  y = y.reshape((m, 1)) \n",
        "  theta = theta.reshape((n, 1)) \n",
        "\n",
        "  theta_0 = theta[0] \n",
        "  theta_j = theta[1:] \n",
        " \n",
        "  theta = np.matrix(theta) \n",
        "\n",
        "  predictions = X * theta \n",
        "  sig_term = sigmoid(predictions) \n",
        "\n",
        "  errors = (sig_term - y) \n",
        "\n",
        "  delta_0 = 1/m * errors.T * X[:, 0] \n",
        "\n",
        "  delta = 1/m * errors.T * X[:, 1:]\n",
        "\n",
        "  regular = s_lambda / m * theta_j \n",
        "  delta_j = delta.T + regular \n",
        "  grad[0] = delta_0 \n",
        "  grad[1:] = delta_j.T \n",
        "   \n",
        "  return grad.flatten() \n",
        "   \n",
        "initial_theta = np.zeros((X_reg.shape[1], 1)) \n",
        "s_lambda = 1 \n",
        "\n",
        "Result = op.minimize(fun = myCostReg, x0 = initial_theta, args = (X_reg, y, s_lambda), method = 'TNC', jac = myGradientReg); \n",
        "cost = Result.fun \n",
        "theta = Result.x \n",
        "\n",
        "theta[0] = theta_history[1500][0]\n",
        "theta[1] = theta_history[1500][1]\n",
        "theta[2] = theta_history[1500][2]\n",
        "theta[3] = theta_history[1500][3]\n",
        "theta[4] = theta_history[1500][4]\n",
        "theta[5] = theta_history[1500][5]\n",
        "theta[6] = theta_history[1500][6]\n",
        "theta[7] = theta_history[1500][7]\n",
        "theta[8] = theta_history[1500][8]\n",
        "theta[9] = theta_history[1500][9]\n",
        "theta[10] = theta_history[1500][10]\n",
        "theta[11] = theta_history[1500][11]\n",
        "theta[12] = theta_history[1500][12]\n",
        "theta[13] = theta_history[1500][13]\n",
        "theta[14] = theta_history[1500][14]"
      ],
      "execution_count": 124,
      "outputs": [
        {
          "output_type": "error",
          "ename": "IndexError",
          "evalue": "ignored",
          "traceback": [
            "\u001b[0;31m---------------------------------------------------------------------------\u001b[0m",
            "\u001b[0;31mIndexError\u001b[0m                                Traceback (most recent call last)",
            "\u001b[0;32m<ipython-input-124-f12ab7c6bd28>\u001b[0m in \u001b[0;36m<module>\u001b[0;34m()\u001b[0m\n\u001b[1;32m     61\u001b[0m \u001b[0mtheta\u001b[0m \u001b[0;34m=\u001b[0m \u001b[0mResult\u001b[0m\u001b[0;34m.\u001b[0m\u001b[0mx\u001b[0m\u001b[0;34m\u001b[0m\u001b[0;34m\u001b[0m\u001b[0m\n\u001b[1;32m     62\u001b[0m \u001b[0;34m\u001b[0m\u001b[0m\n\u001b[0;32m---> 63\u001b[0;31m \u001b[0mtheta\u001b[0m\u001b[0;34m[\u001b[0m\u001b[0;36m0\u001b[0m\u001b[0;34m]\u001b[0m \u001b[0;34m=\u001b[0m \u001b[0mtheta_history\u001b[0m\u001b[0;34m[\u001b[0m\u001b[0;36m1500\u001b[0m\u001b[0;34m]\u001b[0m\u001b[0;34m[\u001b[0m\u001b[0;36m0\u001b[0m\u001b[0;34m]\u001b[0m\u001b[0;34m\u001b[0m\u001b[0;34m\u001b[0m\u001b[0m\n\u001b[0m\u001b[1;32m     64\u001b[0m \u001b[0mtheta\u001b[0m\u001b[0;34m[\u001b[0m\u001b[0;36m1\u001b[0m\u001b[0;34m]\u001b[0m \u001b[0;34m=\u001b[0m \u001b[0mtheta_history\u001b[0m\u001b[0;34m[\u001b[0m\u001b[0;36m1500\u001b[0m\u001b[0;34m]\u001b[0m\u001b[0;34m[\u001b[0m\u001b[0;36m1\u001b[0m\u001b[0;34m]\u001b[0m\u001b[0;34m\u001b[0m\u001b[0;34m\u001b[0m\u001b[0m\n\u001b[1;32m     65\u001b[0m \u001b[0mtheta\u001b[0m\u001b[0;34m[\u001b[0m\u001b[0;36m2\u001b[0m\u001b[0;34m]\u001b[0m \u001b[0;34m=\u001b[0m \u001b[0mtheta_history\u001b[0m\u001b[0;34m[\u001b[0m\u001b[0;36m1500\u001b[0m\u001b[0;34m]\u001b[0m\u001b[0;34m[\u001b[0m\u001b[0;36m2\u001b[0m\u001b[0;34m]\u001b[0m\u001b[0;34m\u001b[0m\u001b[0;34m\u001b[0m\u001b[0m\n",
            "\u001b[0;31mIndexError\u001b[0m: index 1500 is out of bounds for axis 0 with size 100"
          ]
        }
      ]
    },
    {
      "cell_type": "code",
      "metadata": {
        "id": "InuWtnRQcO5l",
        "colab_type": "code",
        "colab": {}
      },
      "source": [
        "def predict(theta, X): \n",
        "  m = matrix(X) \n",
        "  m, n = X.shape \n",
        "  theta = theta.reshape((n, 1)) \n",
        "  theta = matrix(theta) \n",
        "  p = np.zeros((m, 1)) \n",
        "  p = sigmoid(X * theta) >= 0.5; \n",
        "  \n",
        "  return p "
      ],
      "execution_count": 0,
      "outputs": []
    },
    {
      "cell_type": "code",
      "metadata": {
        "id": "iNdR62YqcQPg",
        "colab_type": "code",
        "colab": {}
      },
      "source": [
        "p = predict(theta, X_reg) "
      ],
      "execution_count": 0,
      "outputs": []
    },
    {
      "cell_type": "code",
      "metadata": {
        "id": "0DiidmcWcRIi",
        "colab_type": "code",
        "colab": {}
      },
      "source": [
        "def plotBoundary(theta, X, y): \n",
        "  \n",
        "  if np.size(X, 1) <= 3: \n",
        "    plot_x = np.array([np.min(X[:, 1]) - 2, np.max(X[:, 1] + 2)]) \n",
        "    plot_y = (-1 / theta[2]) * (theta[1] * plot_x + theta[0]) \n",
        "    plot(plot_x, plot_y) \n",
        "    plt.legend(('Admitted', 'Not admitted'), loc='upper right') \n",
        "  \n",
        "  else: \n",
        "\n",
        "    u = linspace(-1, 1.5, 800) \n",
        "    v = linspace(-1, 1.5, 800) \n",
        "    z = np.zeros((np.size(u), np.size(v))) \n",
        "\n",
        "    for i in np.arange(np.size(u)): \n",
        "      for j in np.arange(np.size(v)): \n",
        "        z[i, j] = np.sum(mapFeature(u[i], v[j]) * theta) \n",
        "        \n",
        "        z = z.T \n",
        "\n",
        "    plt.figure()\n",
        "    plt.scatter(pointX0, pointY0, c='b')\n",
        "    plt.scatter(pointX1, pointY1, c='r')\n",
        "    plt.tight_layout()\n",
        "    plt.gca().set_aspect('equal', adjustable='box')\n",
        "    plt.contour(u, v, z) "
      ],
      "execution_count": 0,
      "outputs": []
    },
    {
      "cell_type": "code",
      "metadata": {
        "id": "mJXO5HtIcSbj",
        "colab_type": "code",
        "colab": {}
      },
      "source": [
        "plotBoundary(theta, X_reg, y)"
      ],
      "execution_count": 0,
      "outputs": []
    },
    {
      "cell_type": "code",
      "metadata": {
        "id": "SoKpG5oscYnA",
        "colab_type": "code",
        "colab": {}
      },
      "source": [
        "accuracy_history = np.zeros(1500)\n",
        "\n",
        "for i in range(1500):\n",
        "  p = predict(theta_history[i], X_reg) \n",
        "  accuracy_history[i] = np.mean(double(p == y))"
      ],
      "execution_count": 0,
      "outputs": []
    },
    {
      "cell_type": "code",
      "metadata": {
        "id": "CBj-WlzDcZ42",
        "colab_type": "code",
        "colab": {}
      },
      "source": [
        "# fig,ax = plt.subplots(figsize=(12,8))\n",
        "\n",
        "# ax.set_ylabel('accuracy')\n",
        "# ax.set_xlabel('Iterations')\n",
        "# _=ax.plot(range(1500),accuracy_history,'r.')"
      ],
      "execution_count": 0,
      "outputs": []
    },
    {
      "cell_type": "markdown",
      "metadata": {
        "id": "mujVAKAmCNjP",
        "colab_type": "text"
      },
      "source": [
        "# **3. Display the values of the chosen regularization parameters[3pt]**\n",
        "\n",
        "- display the value of the chosen λ1 for the demonstration of over-fitting (in red color) [1pt]\n",
        "- display the value of the chosen λ2​ for the demonstration of just-right (in green color) [1pt]\n",
        "- display the value of the chosen λ3 for the demonstration of under-fitting (in blue color) [1pt]"
      ]
    },
    {
      "cell_type": "markdown",
      "metadata": {
        "id": "W0_y4h3lCOEW",
        "colab_type": "text"
      },
      "source": [
        "# **4. Plot the training accuracy with varying regularization parameters[9pt]**\n",
        "\n",
        "- plot the training accuracy with the chosen λ1 for over-fitting at every iteration of gradient descent until convergence (in red color) [3pt]\n",
        "- plot the training accuracy with the chosen λ2​ for just-right at every iteration of gradient descent until convergence (in green color) [3pt]\n",
        "- plot the training accuracy with the chosen λ3​ for under-fitting at every iteration of gradient descent until convergence (in blue color) [3pt]\n",
        "- the above three curves should be presented all together in a single figure"
      ]
    },
    {
      "cell_type": "markdown",
      "metadata": {
        "id": "nv_zAWupCOVI",
        "colab_type": "text"
      },
      "source": [
        "# **5. Display the final training accuracy with varying regularization parameters[3pt]**\n",
        "\n",
        "- display the final training accuracy obtained with the chosen λ1​ for over-fitting in number (%) at convergence (in red color) [1pt]\n",
        "- display the final training accuracy obtained with the chosen λ2​ for just-right in number (%) at convergence (in green color) [1pt]\n",
        "- display the final training accuracy obtained with the chosen λ3​ for under-fitting in number (%) at convergence (in blue color) [1pt]"
      ]
    },
    {
      "cell_type": "markdown",
      "metadata": {
        "id": "MokllgPaCOmA",
        "colab_type": "text"
      },
      "source": [
        "# **6. Plot the optimal classifier with varying regularization parameters superimposed on the training data[9pt]**\n",
        "\n",
        "- plot the boundary of the optimal classifier with the chosen λ1​ for over-fitting at convergence (in red color) [3pt]\n",
        "- plot the boundary of the optimal classifier with the chosen λ2 for just-right at convergence (in green color) [3pt]\n",
        "- plot the boundary of the optimal classifier with the chosen λ3​ for under-fitting at convergence (in blue color) [3pt]\n",
        "- the boundary of the classifier is defined by {(x,y)∣σ(g(x,y;θ))=0.5}={(x,y)∣g(x,y;θ)=0}\n",
        "- the boundaries of the classifiers with different regularization parameters should be presented with the training data points (x,y) with their labels lll in colors (blue for label 0 and red for label 1)\n",
        "- you can use contour function in python3"
      ]
    },
    {
      "cell_type": "markdown",
      "metadata": {
        "colab_type": "text",
        "id": "jRZdvhoye2gw"
      },
      "source": [
        "# **Machine Learning Assignment07** #\n",
        "\n",
        "Name : 이현주\n",
        "\n",
        "Student # : 20184060"
      ]
    }
  ]
}