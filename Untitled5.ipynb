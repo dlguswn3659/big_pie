{
  "nbformat": 4,
  "nbformat_minor": 0,
  "metadata": {
    "colab": {
      "name": "Untitled5.ipynb",
      "provenance": [],
      "authorship_tag": "ABX9TyMB3hh/k/xsNo1y/4RBUCEN",
      "include_colab_link": true
    },
    "kernelspec": {
      "name": "python3",
      "display_name": "Python 3"
    }
  },
  "cells": [
    {
      "cell_type": "markdown",
      "metadata": {
        "id": "view-in-github",
        "colab_type": "text"
      },
      "source": [
        "<a href=\"https://colab.research.google.com/github/dlguswn3659/big_pie/blob/master/Untitled5.ipynb\" target=\"_parent\"><img src=\"https://colab.research.google.com/assets/colab-badge.svg\" alt=\"Open In Colab\"/></a>"
      ]
    },
    {
      "cell_type": "markdown",
      "metadata": {
        "id": "fT6qNpkPBpDf",
        "colab_type": "text"
      },
      "source": [
        "# **7강 연습문제**\n",
        "**연습문제 7-4** 국가별 행복도 출력하기"
      ]
    },
    {
      "cell_type": "code",
      "metadata": {
        "id": "jInUMc9iBlh7",
        "colab_type": "code",
        "colab": {}
      },
      "source": [
        "happiness = {\n",
        "    '호주' : 7.95,\n",
        "    '노르웨이' : 7.9,\n",
        "    '미국' : 7.85,\n",
        "    '일본' : 6.2,\n",
        "    '한국' : 5.75,\n",
        "}"
      ],
      "execution_count": 0,
      "outputs": []
    },
    {
      "cell_type": "code",
      "metadata": {
        "id": "PbRJkQjLETt9",
        "colab_type": "code",
        "outputId": "66fe8dbc-cc57-4e6c-9051-93163f25302b",
        "colab": {
          "base_uri": "https://localhost:8080/",
          "height": 105
        }
      },
      "source": [
        "for k in happiness:\n",
        "  print(k + ' 사람들은 ' , happiness[k], ' 만큼 행복합니다.')"
      ],
      "execution_count": 0,
      "outputs": [
        {
          "output_type": "stream",
          "text": [
            "호주 사람들은  7.95  만큼 행복합니다.\n",
            "노르웨이 사람들은  7.9  만큼 행복합니다.\n",
            "미국 사람들은  7.85  만큼 행복합니다.\n",
            "일본 사람들은  6.2  만큼 행복합니다.\n",
            "한국 사람들은  5.75  만큼 행복합니다.\n"
          ],
          "name": "stdout"
        }
      ]
    },
    {
      "cell_type": "markdown",
      "metadata": {
        "id": "llszFSgHFHq2",
        "colab_type": "text"
      },
      "source": [
        "**연습문제 7-5** 육십갑자표"
      ]
    },
    {
      "cell_type": "code",
      "metadata": {
        "id": "azxPGphNFPaf",
        "colab_type": "code",
        "colab": {}
      },
      "source": [
        "천간 = ['갑', '을', '병', '정', '무', '기', '경', '신', '임', '계']\n",
        "지지 = ['자', '축', '인', '묘', '진', '사', '오', '미', '신', '유', '술', '해']"
      ],
      "execution_count": 0,
      "outputs": []
    },
    {
      "cell_type": "code",
      "metadata": {
        "id": "MdDJ1IaKFe8v",
        "colab_type": "code",
        "outputId": "93ff5fca-345d-4032-fe00-10dd0a867b86",
        "colab": {
          "base_uri": "https://localhost:8080/",
          "height": 192
        }
      },
      "source": [
        "for i in 천간:\n",
        "  for j in 지지:\n",
        "    print(i + j, end=' ')\n",
        "  print()  "
      ],
      "execution_count": 0,
      "outputs": [
        {
          "output_type": "stream",
          "text": [
            "갑자 갑축 갑인 갑묘 갑진 갑사 갑오 갑미 갑신 갑유 갑술 갑해 \n",
            "을자 을축 을인 을묘 을진 을사 을오 을미 을신 을유 을술 을해 \n",
            "병자 병축 병인 병묘 병진 병사 병오 병미 병신 병유 병술 병해 \n",
            "정자 정축 정인 정묘 정진 정사 정오 정미 정신 정유 정술 정해 \n",
            "무자 무축 무인 무묘 무진 무사 무오 무미 무신 무유 무술 무해 \n",
            "기자 기축 기인 기묘 기진 기사 기오 기미 기신 기유 기술 기해 \n",
            "경자 경축 경인 경묘 경진 경사 경오 경미 경신 경유 경술 경해 \n",
            "신자 신축 신인 신묘 신진 신사 신오 신미 신신 신유 신술 신해 \n",
            "임자 임축 임인 임묘 임진 임사 임오 임미 임신 임유 임술 임해 \n",
            "계자 계축 계인 계묘 계진 계사 계오 계미 계신 계유 계술 계해 \n"
          ],
          "name": "stdout"
        }
      ]
    },
    {
      "cell_type": "markdown",
      "metadata": {
        "id": "I6nLeAqaGG2i",
        "colab_type": "text"
      },
      "source": [
        "**연습문제 7-6** 두 시퀀스의 요소 합하기"
      ]
    },
    {
      "cell_type": "code",
      "metadata": {
        "id": "c-t-YSQTGFbb",
        "colab_type": "code",
        "colab": {}
      },
      "source": [
        "def plus_elements(list1, list2):\n",
        "  for first, second in zip(list1, list2):\n",
        "    print(first+second, end = ' ')"
      ],
      "execution_count": 0,
      "outputs": []
    },
    {
      "cell_type": "code",
      "metadata": {
        "id": "U5d2HUsIG51w",
        "colab_type": "code",
        "outputId": "af39f266-1ff6-40c2-e4bc-f23333f3bb98",
        "colab": {
          "base_uri": "https://localhost:8080/",
          "height": 35
        }
      },
      "source": [
        "list1 = 1, 2, 3\n",
        "list2 = 4, 5, 6\n",
        "plus_elements(list1, list2)"
      ],
      "execution_count": 0,
      "outputs": [
        {
          "output_type": "stream",
          "text": [
            "5 7 9 "
          ],
          "name": "stdout"
        }
      ]
    },
    {
      "cell_type": "markdown",
      "metadata": {
        "colab_type": "text",
        "id": "B6s39kvy_1M0"
      },
      "source": [
        "# **10강 연습문제**\n",
        "**코드 10-5** "
      ]
    },
    {
      "cell_type": "code",
      "metadata": {
        "id": "UG-OSWv7CDT5",
        "colab_type": "code",
        "colab": {
          "base_uri": "https://localhost:8080/",
          "height": 70
        },
        "outputId": "7407fb66-f946-477e-ebdf-2a484adba39a"
      },
      "source": [
        "def mean(seq):\n",
        "    \"\"\"시퀀스의 산술평균을 구한다.\"\"\"\n",
        "    return sum(seq) / len(seq)\n",
        "\n",
        "def median(seq):\n",
        "    \"\"\"시퀀스의 중앙값을 구한다.\"\"\"\n",
        "    n = len(seq)              # 시퀀스의 길이와\n",
        "    sorted_seq = sorted(seq)  # 정렬된 시퀀스를 구한 후\n",
        "    \n",
        "    # 시퀀스 길이가 짝수인 경우: 가운데 두 원소의 평균 반환\n",
        "    if n % 2 == 0:\n",
        "        return (sorted_seq[n // 2 - 1] + sorted_seq[n // 2]) / 2\n",
        "    # 그 외: 가운데 원소 반환\n",
        "    else:\n",
        "        return sorted_seq[n // 2]\n",
        "\n",
        "def most_frequent(seq):\n",
        "    \"\"\"시퀀스의 최빈값을 구한다.\"\"\"\n",
        "    # 사전에 빈도 기록\n",
        "    frequencies = {}\n",
        "    for element in seq:\n",
        "        if element in frequencies:\n",
        "            frequencies[element] += 1\n",
        "        else:\n",
        "            frequencies[element] = 1\n",
        "    \n",
        "    # 사전의 항목들을 빈도순으로 정렬하고 최빈값 반환\n",
        "    frequencies = sorted(frequencies.items(), key=lambda item: item[1])\n",
        "    return frequencies[-1][0]\n",
        "\n",
        "# 기말고사 성적\n",
        "scores = [99, 98, 96, 100, 99, 92, 93, 27, 96, 85, 100, 99]\n",
        "\n",
        "# 학생들의 키\n",
        "heights = [155.8, 182.7, 166.3, 181.1, 179.5, 173.2, 174.5, 162.3]\n",
        "\n",
        "# 칭찬도장 받은 학생\n",
        "compliments = ['박연오', '김파이', '김파이', '박연오', '박연오']\n",
        "\n",
        "print('기말고사 성적 평균:', mean(scores))\n",
        "print('가운데 앉은 학생의 키:', median(heights))\n",
        "print('칭찬을 가장 많이 받은 학생:', most_frequent(compliments))"
      ],
      "execution_count": 1,
      "outputs": [
        {
          "output_type": "stream",
          "text": [
            "기말고사 성적 평균: 90.33333333333333\n",
            "가운데 앉은 학생의 키: 173.85\n",
            "칭찬을 가장 많이 받은 학생: 박연오\n"
          ],
          "name": "stdout"
        }
      ]
    }
  ]
}