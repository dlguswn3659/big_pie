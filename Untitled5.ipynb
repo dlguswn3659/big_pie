{
  "nbformat": 4,
  "nbformat_minor": 0,
  "metadata": {
    "colab": {
      "name": "Untitled5.ipynb",
      "provenance": [],
      "authorship_tag": "ABX9TyMNsAvgIRNs7rBI98jh43kE",
      "include_colab_link": true
    },
    "kernelspec": {
      "name": "python3",
      "display_name": "Python 3"
    }
  },
  "cells": [
    {
      "cell_type": "markdown",
      "metadata": {
        "id": "view-in-github",
        "colab_type": "text"
      },
      "source": [
        "<a href=\"https://colab.research.google.com/github/dlguswn3659/big_pie/blob/master/Untitled5.ipynb\" target=\"_parent\"><img src=\"https://colab.research.google.com/assets/colab-badge.svg\" alt=\"Open In Colab\"/></a>"
      ]
    },
    {
      "cell_type": "markdown",
      "metadata": {
        "id": "fT6qNpkPBpDf",
        "colab_type": "text"
      },
      "source": [
        "# **7강 연습문제**\n",
        "**연습문제 7-4** 국가별 행복도 출력하기"
      ]
    },
    {
      "cell_type": "code",
      "metadata": {
        "id": "jInUMc9iBlh7",
        "colab_type": "code",
        "colab": {}
      },
      "source": [
        "happiness = {\n",
        "    '호주' : 7.95,\n",
        "    '노르웨이' : 7.9,\n",
        "    '미국' : 7.85,\n",
        "    '일본' : 6.2,\n",
        "    '한국' : 5.75,\n",
        "}"
      ],
      "execution_count": 0,
      "outputs": []
    },
    {
      "cell_type": "code",
      "metadata": {
        "id": "PbRJkQjLETt9",
        "colab_type": "code",
        "colab": {
          "base_uri": "https://localhost:8080/",
          "height": 105
        },
        "outputId": "66fe8dbc-cc57-4e6c-9051-93163f25302b"
      },
      "source": [
        "for k in happiness:\n",
        "  print(k + ' 사람들은 ' , happiness[k], ' 만큼 행복합니다.')"
      ],
      "execution_count": 4,
      "outputs": [
        {
          "output_type": "stream",
          "text": [
            "호주 사람들은  7.95  만큼 행복합니다.\n",
            "노르웨이 사람들은  7.9  만큼 행복합니다.\n",
            "미국 사람들은  7.85  만큼 행복합니다.\n",
            "일본 사람들은  6.2  만큼 행복합니다.\n",
            "한국 사람들은  5.75  만큼 행복합니다.\n"
          ],
          "name": "stdout"
        }
      ]
    },
    {
      "cell_type": "markdown",
      "metadata": {
        "id": "llszFSgHFHq2",
        "colab_type": "text"
      },
      "source": [
        "**연습문제 7-5** 육십갑자표"
      ]
    },
    {
      "cell_type": "code",
      "metadata": {
        "id": "azxPGphNFPaf",
        "colab_type": "code",
        "colab": {}
      },
      "source": [
        "천간 = ['갑', '을', '병', '정', '무', '기', '경', '신', '임', '계']\n",
        "지지 = ['자', '축', '인', '묘', '진', '사', '오', '미', '신', '유', '술', '해']"
      ],
      "execution_count": 0,
      "outputs": []
    },
    {
      "cell_type": "code",
      "metadata": {
        "id": "MdDJ1IaKFe8v",
        "colab_type": "code",
        "colab": {
          "base_uri": "https://localhost:8080/",
          "height": 192
        },
        "outputId": "93ff5fca-345d-4032-fe00-10dd0a867b86"
      },
      "source": [
        "for i in 천간:\n",
        "  for j in 지지:\n",
        "    print(i + j, end=' ')\n",
        "  print()  "
      ],
      "execution_count": 7,
      "outputs": [
        {
          "output_type": "stream",
          "text": [
            "갑자 갑축 갑인 갑묘 갑진 갑사 갑오 갑미 갑신 갑유 갑술 갑해 \n",
            "을자 을축 을인 을묘 을진 을사 을오 을미 을신 을유 을술 을해 \n",
            "병자 병축 병인 병묘 병진 병사 병오 병미 병신 병유 병술 병해 \n",
            "정자 정축 정인 정묘 정진 정사 정오 정미 정신 정유 정술 정해 \n",
            "무자 무축 무인 무묘 무진 무사 무오 무미 무신 무유 무술 무해 \n",
            "기자 기축 기인 기묘 기진 기사 기오 기미 기신 기유 기술 기해 \n",
            "경자 경축 경인 경묘 경진 경사 경오 경미 경신 경유 경술 경해 \n",
            "신자 신축 신인 신묘 신진 신사 신오 신미 신신 신유 신술 신해 \n",
            "임자 임축 임인 임묘 임진 임사 임오 임미 임신 임유 임술 임해 \n",
            "계자 계축 계인 계묘 계진 계사 계오 계미 계신 계유 계술 계해 \n"
          ],
          "name": "stdout"
        }
      ]
    },
    {
      "cell_type": "markdown",
      "metadata": {
        "id": "I6nLeAqaGG2i",
        "colab_type": "text"
      },
      "source": [
        "**연습문제 7-6** 두 시퀀스의 요소 합하기"
      ]
    },
    {
      "cell_type": "code",
      "metadata": {
        "id": "c-t-YSQTGFbb",
        "colab_type": "code",
        "colab": {}
      },
      "source": [
        "def plus_elements(list1, list2):\n",
        "  for first, second in zip(list1, list2):\n",
        "    print(first+second, end = ' ')"
      ],
      "execution_count": 0,
      "outputs": []
    },
    {
      "cell_type": "code",
      "metadata": {
        "id": "U5d2HUsIG51w",
        "colab_type": "code",
        "colab": {
          "base_uri": "https://localhost:8080/",
          "height": 35
        },
        "outputId": "af39f266-1ff6-40c2-e4bc-f23333f3bb98"
      },
      "source": [
        "list1 = 1, 2, 3\n",
        "list2 = 4, 5, 6\n",
        "plus_elements(list1, list2)"
      ],
      "execution_count": 12,
      "outputs": [
        {
          "output_type": "stream",
          "text": [
            "5 7 9 "
          ],
          "name": "stdout"
        }
      ]
    }
  ]
}